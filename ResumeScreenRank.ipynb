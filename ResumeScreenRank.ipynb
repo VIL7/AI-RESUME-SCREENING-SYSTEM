{
  "cells": [
    {
      "cell_type": "code",
      "execution_count": null,
      "metadata": {},
      "outputs": [],
      "source": [
        "import streamlit as st\n",
        "from PyPDF2 import PdfReader\n",
        "import pandas as pd\n",
        "from sklearn.feature_extraction.text import TfidfVectorizer\n",
        "from sklearn.metrics.pairwise import cosine_similarity\n",
        "\n",
        "# Setting up the Streamlit page with a cool title and layout\n",
        "st.set_page_config(page_title=\"AI Resume Screening\", page_icon=\"📄\", layout=\"wide\", initial_sidebar_state=\"expanded\")\n",
        "\n",
        "# Some CSS to make it look fancy\n",
        "st.markdown(\"\"\"\n",
        "    <style>\n",
        "    .stApp {background-color: #e6e6fa;}\n",
        "    h1 {color: #000000;}\n",
        "    h2 {color: #000000;}\n",
        "    .stTextArea > label {color: #000000; font-weight: bold; font-size: 16px;}\n",
        "    .stFileUploader > label {color: #000000; font-weight: bold; font-size: 16px;}\n",
        "    .reportview-container .main .block-container {background-color: #ffffff; border-radius: 10px; padding: 20px; box-shadow: 0 4px 8px rgba(0, 0, 0, 0.2);}\n",
        "    </style>\n",
        "    \"\"\", unsafe_allow_html=True)\n",
        "\n",
        "# Function to pull text out of PDFs\n",
        "def extract_text_from_pdf(file):\n",
        "    pdf = PdfReader(file)\n",
        "    text = \"\"\n",
        "    for page in pdf.pages:\n",
        "        text += page.extract_text()\n",
        "    return text\n",
        "\n",
        "# This ranks resumes based on how close they match the job description\n",
        "def rank_resumes(job_description, resumes):\n",
        "    documents = [job_description] + resumes\n",
        "    vectorizer = TfidfVectorizer().fit_transform(documents)\n",
        "    vectors = vectorizer.toarray()\n",
        "    job_description_vector = vectors[0]\n",
        "    resume_vectors = vectors[1:]\n",
        "    cosine_similarities = cosine_similarity([job_description_vector], resume_vectors).flatten()\n",
        "    return cosine_similarities\n",
        "\n",
        "# Main app stuff starts here\n",
        "st.title(\"AI Resume Screening & Candidate Ranking System\")\n",
        "st.header(\"Job Description\")\n",
        "job_description = st.text_area(\"Enter the job description\")  # Where the user types the job details\n",
        "\n",
        "st.header(\"Upload Resumes\")\n",
        "uploaded_files = st.file_uploader(\"Upload PDF files\", type=[\"pdf\"], accept_multiple_files=True)  # Drag and drop resumes here\n",
        "\n",
        "# When we’ve got files and a job description, let’s rank ‘em\n",
        "if uploaded_files and job_description:\n",
        "    st.header(\"Ranking Resumes\")\n",
        "    resumes = [extract_text_from_pdf(file) for file in uploaded_files]\n",
        "    scores = rank_resumes(job_description, resumes)\n",
        "    results = pd.DataFrame({\"Resume\": [file.name for file in uploaded_files], \"Score\": scores})\n",
        "    results = results.sort_values(by=\"Score\", ascending=False)  # Higher score = better match\n",
        "    st.write(\"### Results\")\n",
        "    st.dataframe(results)  # Show the ranked list in a nice table"
      ]
    }
  ],
  "metadata": {
    "colab": {
      "provenance": []
    },
    "kernelspec": {
      "display_name": "Python 3",
      "name": "python3"
    },
    "language_info": {
      "codemirror_mode": {
        "name": "ipython",
        "version": 3
      },
      "file_extension": ".py",
      "mimetype": "text/x-python",
      "name": "python",
      "nbconvert_exporter": "python",
      "pygments_lexer": "ipython3",
      "version": "3.13.0"
    }
  },
  "nbformat": 4,
  "nbformat_minor": 0
}
